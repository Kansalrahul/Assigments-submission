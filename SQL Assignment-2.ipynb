{
 "cells": [
  {
   "cell_type": "markdown",
   "id": "a7983177",
   "metadata": {},
   "source": [
    "Q-1. Write an SQL query to print the first three characters of  FIRST_NAME from Worker table.\n",
    "Ans:select SUBSTRING(FIRST_NAME,1,3) from WORKER\n",
    "\n",
    "\n",
    " Q-2. Write an SQL query to find the position of the alphabet (‘a’) in the first name column ‘Amitabh’ from Worker table.\n",
    " Ans:select INSTR(FIRST_NAME,BINARY'a') from worker WHERE FIRST_NAME='Amitabh'\n",
    " \n",
    "Q-3. Write an SQL query to print the name of employees having the highest salary in each department.\n",
    "ANS:SELECT t.DEPARTMENT,t.FIRST_NAME,t.Salary from(SELECT max(Salary) as TotalSalary,DEPARTMENT from Worker group by DEPARTMENT) as TempNew \n",
    "Inner Join Worker t on TempNew.DEPARTMENT=t.DEPARTMENT \n",
    " and TempNew.TotalSalary=t.Salary\n"
   ]
  }
 ],
 "metadata": {
  "kernelspec": {
   "display_name": "Python 3 (ipykernel)",
   "language": "python",
   "name": "python3"
  },
  "language_info": {
   "codemirror_mode": {
    "name": "ipython",
    "version": 3
   },
   "file_extension": ".py",
   "mimetype": "text/x-python",
   "name": "python",
   "nbconvert_exporter": "python",
   "pygments_lexer": "ipython3",
   "version": "3.9.7"
  }
 },
 "nbformat": 4,
 "nbformat_minor": 5
}
