{
 "cells": [
  {
   "cell_type": "markdown",
   "id": "a8527705",
   "metadata": {},
   "source": [
    "Q-1. Write an SQL query to fetch “FIRST_NAME” from Worker table using the alias name as <WORKER_NAME>.\n",
    "Ans:select FIRST_NAME as WORKER_Name from Worker  \n",
    "\n",
    "\n",
    "Q-2. Write an SQL query to fetch unique values of DEPARTMENT from Worker table.\n",
    "Ans: select distinct (DEPARTMENT) from worker\n",
    "\n",
    "\n",
    "Q-3. Write an SQL query to show the last 5 record from a table.\n",
    "Ans: select * from(select 5* from table_name by column_name desc) order by column_name asc\n",
    " \n",
    "\n"
   ]
  }
 ],
 "metadata": {
  "kernelspec": {
   "display_name": "Python 3 (ipykernel)",
   "language": "python",
   "name": "python3"
  },
  "language_info": {
   "codemirror_mode": {
    "name": "ipython",
    "version": 3
   },
   "file_extension": ".py",
   "mimetype": "text/x-python",
   "name": "python",
   "nbconvert_exporter": "python",
   "pygments_lexer": "ipython3",
   "version": "3.9.7"
  }
 },
 "nbformat": 4,
 "nbformat_minor": 5
}
