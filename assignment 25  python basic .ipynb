{
 "cells": [
  {
   "cell_type": "markdown",
   "id": "14047fd1",
   "metadata": {},
   "source": [
    "1) . What is the difference between enclosing a list comprehension in square brackets and parentheses?\n",
    "\n",
    "Ans:in square beackets it is a list comprehension & list is mutable then we append it .in parenthesis it is a tuple & it will be immutable & it cant be append like operations.tuple is also used as a key in dictionary because it is hashable but list can't.\n",
    "\n",
    "2) What is the relationship between generators and iterators?\n",
    "\n",
    "Ans:every iterator is generator but every generator is not iterator.\n",
    "iterators are objects that use next() to get next value of sequence.\n",
    "generators is a function that yields a sequence value using yield method.\n",
    "\n",
    "3) What are the signs that a function is a generator function?\n",
    "Ans:function include at leat one yield statement\n",
    "\n",
    "4) What is the purpose of a yield statement?\n",
    "Ans:yield is used in generator function.it is used to get return from a function.it can't destroy its local variable.execution starts from its yield statement.\n",
    "\n",
    "5) What is the relationship between map calls and list comprehensions? Make a comparison and contrast between the two.\n",
    "Ans:list comprehension is used when list required where map returns map object.list output is easy to read then map object.but map is faster in already called function.\n"
   ]
  }
 ],
 "metadata": {
  "kernelspec": {
   "display_name": "Python 3 (ipykernel)",
   "language": "python",
   "name": "python3"
  },
  "language_info": {
   "codemirror_mode": {
    "name": "ipython",
    "version": 3
   },
   "file_extension": ".py",
   "mimetype": "text/x-python",
   "name": "python",
   "nbconvert_exporter": "python",
   "pygments_lexer": "ipython3",
   "version": "3.9.7"
  }
 },
 "nbformat": 4,
 "nbformat_minor": 5
}
