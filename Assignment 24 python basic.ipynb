{
 "cells": [
  {
   "cell_type": "markdown",
   "id": "233f1c57",
   "metadata": {},
   "source": [
    "1. What is the relationship between def statements and lambda expressions ?\n",
    "\n",
    "Ans:both is inbuilt in python.both are used to make a function.def is used to made multiple line function whereas lambda is used for single line.\n",
    "\n",
    "2. What is the benefit of lambda?\n",
    "Ans: Lambda is used to make a single line function.we can write function in single line by using lamda statement.it reduce uses of words & time also.\n",
    "3. Compare and contrast map, filter, and reduce.\n",
    "Ans:map():it iterates all the objects & pass an arguement on each of the item.\n",
    "filter(): made a new list that satisfy the certain condition\n",
    "reduce():it is bit harder than above two statement.it can be pass output when we call first two items in sequence.it is not inbuilt now.it can be import from functools.\n",
    "\n",
    "4. What are function annotations, and how are they used?\n",
    "Ans:Function annotations are completely optional both for parameters and return value.\n",
    "\n",
    "Function annotations provide a way of associating various parts of a function with arbitrary python expressions at compile time\n",
    "annotaions cant effect the output it  mostly ignored\n",
    "5. What are recursive functions, and how are they used?\n",
    "Ans:A recursive function is a function that calls itself during its execution. The process may repeat several times, outputting the result and the end of each iteration.\n",
    "The function Count() below uses recursion to count from any number between 1 and 9, to the number 10. For example, Count(1) would return 2,3,4,5,6,7,8,9,10. Count(7) would return 8,9,10. The result could be used as a roundabout way to subtract the number from 10.\n",
    "6. What are some general design guidelines for coding functions?\n",
    "Ans:it cant be causing harm.\n",
    "it cant be hacked\n",
    "it functions as it should ,everytime\n",
    "it can be maintained at any code level.\n",
    "it works the same in every environment.\n",
    "\n",
    "7. Name three or more ways that functions can communicate results to a caller.\n",
    "\n",
    "Ans:yield \n",
    " print\n",
    " return\n",
    "\n",
    "\n"
   ]
  }
 ],
 "metadata": {
  "kernelspec": {
   "display_name": "Python 3 (ipykernel)",
   "language": "python",
   "name": "python3"
  },
  "language_info": {
   "codemirror_mode": {
    "name": "ipython",
    "version": 3
   },
   "file_extension": ".py",
   "mimetype": "text/x-python",
   "name": "python",
   "nbconvert_exporter": "python",
   "pygments_lexer": "ipython3",
   "version": "3.9.7"
  }
 },
 "nbformat": 4,
 "nbformat_minor": 5
}
