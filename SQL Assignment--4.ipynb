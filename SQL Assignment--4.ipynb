{
 "cells": [
  {
   "cell_type": "markdown",
   "id": "0a92f5e2",
   "metadata": {},
   "source": [
    "Q-1. Write an SQL query to print the FIRST_NAME from Worker table after replacing ‘a’ with ‘A’.\n",
    "Ans: select REPLACE(FIRST_NAME,'a','A') from worker\n",
    "\n",
    "Q-2. Write an SQL query to print all Worker details from the Worker table order by FIRST_NAME Ascending and DEPARTMENT \n",
    "Descending.\n",
    "Ans:select * from worker order by FIRST_NAME asc,DEPARTMENT desc\n",
    "\n",
    "Q-3. Write an SQL query to fetch the names of workers who earn the highest salary.\n",
    "Ans:select FIRST_NAME,SALARY from worker WHERE SALARY=(select max(SALARY) from worker)\n",
    "\n"
   ]
  }
 ],
 "metadata": {
  "kernelspec": {
   "display_name": "Python 3 (ipykernel)",
   "language": "python",
   "name": "python3"
  },
  "language_info": {
   "codemirror_mode": {
    "name": "ipython",
    "version": 3
   },
   "file_extension": ".py",
   "mimetype": "text/x-python",
   "name": "python",
   "nbconvert_exporter": "python",
   "pygments_lexer": "ipython3",
   "version": "3.9.7"
  }
 },
 "nbformat": 4,
 "nbformat_minor": 5
}
