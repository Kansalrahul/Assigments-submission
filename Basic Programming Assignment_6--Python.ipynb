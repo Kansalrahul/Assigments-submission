{
 "cells": [
  {
   "cell_type": "markdown",
   "id": "494a38fb",
   "metadata": {},
   "source": [
    "1. Write a Python Program to Display Fibonacci Sequence Using Recursion?\n",
    "Ans:def rec_fibo(n):\n",
    "    if n<=1:\n",
    "        return n \n",
    "    else:\n",
    "        return(rec_fibo(n-1) + rec_fibo(n-2))\n",
    "    \n",
    "nterms=10\n",
    "\n",
    "if nterms < 0:\n",
    "    print('enter positive number')\n",
    "else:\n",
    "    ('fibonacci sequence')\n",
    "    for i in range(nterms):\n",
    "        print (rec_fibo(i))\n",
    "\n",
    "\n",
    "2. Write a Python Program to Find Factorial of Number Using Recursion?\n",
    "Ans:def fact_num(n):\n",
    "    if n==1:\n",
    "        return n\n",
    "    else:\n",
    "        return n*fact_num(n-1)\n",
    "    \n",
    "num=8   \n",
    "    \n",
    "print('the fcatorial number of',num ,'is',fact_num(num))\n",
    "\n",
    "3. Write a Python Program to calculate your Body Mass Index?\n",
    "Ans:height=float(input('enter height of the body in feet: '))\n",
    "weight=float(input('enter weight of the body in kilogram: '))\n",
    "\n",
    "print('Your Body Mass Index is',round(weight/(height*height),2))\n",
    "\n",
    "4. Write a Python Program to calculate the natural logarithm of any number?\n",
    "Ans:import math\n",
    "\n",
    "print('math.log (100.12): ',math.log(100.12))\n",
    "print('math.log (math.pi): ',math.log(math.pi))\n",
    "\n",
    "5. Write a Python Program for cube sum of first n natural numbers?\n",
    "Ans:def sumofser(n):\n",
    "    sum1 = (n*(n+1)/2)**2\n",
    "    return (sum1)"
   ]
  }
 ],
 "metadata": {
  "kernelspec": {
   "display_name": "Python 3 (ipykernel)",
   "language": "python",
   "name": "python3"
  },
  "language_info": {
   "codemirror_mode": {
    "name": "ipython",
    "version": 3
   },
   "file_extension": ".py",
   "mimetype": "text/x-python",
   "name": "python",
   "nbconvert_exporter": "python",
   "pygments_lexer": "ipython3",
   "version": "3.9.7"
  }
 },
 "nbformat": 4,
 "nbformat_minor": 5
}
