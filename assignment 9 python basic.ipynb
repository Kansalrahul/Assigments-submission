{
 "cells": [
  {
   "cell_type": "markdown",
   "id": "fd9de1ea",
   "metadata": {},
   "source": [
    "1. To what does a relative path refer?\n",
    "Ans:A relative path is a URL that only cotains a portion of full path.its complete location based on its relation with the directory where it is linking.\n",
    "\n",
    "\n",
    "2. What does an absolute path start with your operating system?\n",
    "Ans:Absolute path is also known as full path.it refers to complete details needen to loacte a file or folder,starting with the root element and ending with the other subdirectories.it is used in operating system to locate file & folders.\n",
    "\n",
    "3. What do the functions os.getcwd() and os.chdir() do?\n",
    "Ans:os.getcwd() refers for the current working directory.it tells the present location of our working\n",
    "os.chdir() refers to change working directory.it changes the name of our directory.\n",
    "\n",
    "\n",
    "4. What are the . and .. folders?\n",
    "Ans:. folder is the current folder and .. is the parent folder.\n",
    "\n",
    "5. In C:\\bacon\\eggs\\spam.txt, which part is the dir name, and which part is the base name?\n",
    "Ans:C:\\bacon\\eggs is the dir name\n",
    "spam.txt is the base name\n",
    "\n",
    "\n",
    "\n",
    "6. What are the three “mode” arguments that can be passed to the open() function?\n",
    "Ans:'r'=read mode\n",
    "'w'=write mode\n",
    "'r+'=read and write mode\n",
    "\n",
    "\n",
    "7. What happens if an existing file is opened in write mode?\n",
    "Ans:it erased the data of existing file & can be overwritten.\n",
    "\n",
    "\n",
    "8. How do you tell the difference between read() and readlines()?\n",
    "Ans:read () function refers to read the whole data\n",
    "readline() is used to read the line of data.\n",
    "\n",
    "9. What data structure does a shelf value resemble?\n",
    "Ans:a shelf value resemble the dictionary data structure.it has keys and values.also methods of keys and values work similarly to the dictionary methods.\n"
   ]
  }
 ],
 "metadata": {
  "kernelspec": {
   "display_name": "Python 3 (ipykernel)",
   "language": "python",
   "name": "python3"
  },
  "language_info": {
   "codemirror_mode": {
    "name": "ipython",
    "version": 3
   },
   "file_extension": ".py",
   "mimetype": "text/x-python",
   "name": "python",
   "nbconvert_exporter": "python",
   "pygments_lexer": "ipython3",
   "version": "3.9.7"
  }
 },
 "nbformat": 4,
 "nbformat_minor": 5
}
