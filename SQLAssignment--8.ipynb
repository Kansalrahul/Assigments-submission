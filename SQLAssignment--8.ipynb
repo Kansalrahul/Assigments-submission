{
 "cells": [
  {
   "cell_type": "markdown",
   "id": "6a2c4e5a",
   "metadata": {},
   "source": [
    "Q-15. Write an SQL query to fetch intersecting records of two tables\n",
    "Ans:(select * from worker) INTERSECT (select * from workerclone)\n",
    "\n",
    "Q-16. Write an SQL query to show records from one table that another table does not have.\n",
    "Ans:select * from worker MINUS select *  from title\n"
   ]
  }
 ],
 "metadata": {
  "kernelspec": {
   "display_name": "Python 3 (ipykernel)",
   "language": "python",
   "name": "python3"
  },
  "language_info": {
   "codemirror_mode": {
    "name": "ipython",
    "version": 3
   },
   "file_extension": ".py",
   "mimetype": "text/x-python",
   "name": "python",
   "nbconvert_exporter": "python",
   "pygments_lexer": "ipython3",
   "version": "3.9.7"
  }
 },
 "nbformat": 4,
 "nbformat_minor": 5
}
