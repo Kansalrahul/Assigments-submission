{
 "cells": [
  {
   "cell_type": "markdown",
   "id": "4223567f",
   "metadata": {},
   "source": [
    "Q-13. Write an SQL query to show only odd rows from a table.\n",
    "ANS:select * from worker where MOD(WORKER_ID,2)<>0\n",
    "\n",
    "Q-14. Write an SQL query to clone a new table from another table.\n",
    "ANS:select * into workerclone from worker\n",
    "\n",
    "or\n",
    "\n",
    "creat table workerclone like worker"
   ]
  }
 ],
 "metadata": {
  "kernelspec": {
   "display_name": "Python 3 (ipykernel)",
   "language": "python",
   "name": "python3"
  },
  "language_info": {
   "codemirror_mode": {
    "name": "ipython",
    "version": 3
   },
   "file_extension": ".py",
   "mimetype": "text/x-python",
   "name": "python",
   "nbconvert_exporter": "python",
   "pygments_lexer": "ipython3",
   "version": "3.9.7"
  }
 },
 "nbformat": 4,
 "nbformat_minor": 5
}
