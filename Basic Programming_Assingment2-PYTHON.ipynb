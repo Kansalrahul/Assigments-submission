{
 "cells": [
  {
   "cell_type": "markdown",
   "id": "0ecb569e",
   "metadata": {},
   "source": [
    "1.Write a Python program to convert kilometers to miles? \n",
    "Ans:kilometers=float(input('enter values in kilometers')) \n",
    "conv_fac=0.621371\n",
    "\n",
    "miles=kilometers*conv_fac\n",
    "\n",
    "print('%0.2f kilometers is equal to %0.2f miles'%(kilometers,miles))\n",
    "\n",
    "2.Write a Python program to convert Celsius to Fahrenheit?\n",
    "Ans:celsius =37.5\n",
    "\n",
    "farenheit=(celsius*1.8)+32\n",
    "\n",
    "print('%0.1f degree celsius is equal to %0.1f farenheit'%(celsius,farenheit))\n",
    "\n",
    "3.Write a Python program to display calendar?\n",
    "Ans:import calendar\n",
    "\n",
    "yy=1999\n",
    "mm=2\n",
    "\n",
    "print(calendar.month(yy,mm))\n",
    "\n",
    "4.Write a Python program to solve quadratic equation?\n",
    "Ans:import cmath\n",
    "\n",
    "a = 1\n",
    "b = 5\n",
    "c = 6\n",
    "\n",
    "# calculate the discriminant\n",
    "d = (b**2) - (4*a*c)\n",
    "\n",
    "# find two solutions\n",
    "sol1 = (-b-cmath.sqrt(d))/(2*a)\n",
    "sol2 = (-b+cmath.sqrt(d))/(2*a)\n",
    "\n",
    "print('The solution are {0} and {1}'.format(sol1,sol2))\n",
    "\n",
    "5.Write a Python program to swap two variables without temp variable?\n",
    "Ans:\n",
    "x=19\n",
    "y=13\n",
    "\n",
    "x,y=y,x\n",
    "\n",
    "print('x=',x)\n",
    "print('y=',y)\n",
    "\n"
   ]
  }
 ],
 "metadata": {
  "kernelspec": {
   "display_name": "Python 3 (ipykernel)",
   "language": "python",
   "name": "python3"
  },
  "language_info": {
   "codemirror_mode": {
    "name": "ipython",
    "version": 3
   },
   "file_extension": ".py",
   "mimetype": "text/x-python",
   "name": "python",
   "nbconvert_exporter": "python",
   "pygments_lexer": "ipython3",
   "version": "3.9.7"
  }
 },
 "nbformat": 4,
 "nbformat_minor": 5
}
