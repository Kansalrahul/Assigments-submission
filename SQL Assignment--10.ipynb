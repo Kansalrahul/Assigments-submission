{
 "cells": [
  {
   "cell_type": "markdown",
   "id": "adc6d366",
   "metadata": {},
   "source": [
    "Q-19. Write an SQL query to determine the 5th highest salary without using TOP or limit method.\n",
    "Ans:SELECT name, salary \n",
    "FROM #Employee e1\n",
    "WHERE N-1 = (SELECT COUNT(DISTINCT salary) FROM #Employee e2\n",
    "WHERE e2.salary > e1.salary)\n",
    "\n",
    "\n",
    "\n",
    "\n",
    "Q-20. Write an SQL query to fetch the list of employees with the same salary.\n",
    "Ans:select w.worker_id,w.salary,w.FIRST_NAME from worker W,worker W1 where w.salary=w1.salary and w.worker_id != w1.worker_id\n"
   ]
  }
 ],
 "metadata": {
  "kernelspec": {
   "display_name": "Python 3 (ipykernel)",
   "language": "python",
   "name": "python3"
  },
  "language_info": {
   "codemirror_mode": {
    "name": "ipython",
    "version": 3
   },
   "file_extension": ".py",
   "mimetype": "text/x-python",
   "name": "python",
   "nbconvert_exporter": "python",
   "pygments_lexer": "ipython3",
   "version": "3.9.7"
  }
 },
 "nbformat": 4,
 "nbformat_minor": 5
}
