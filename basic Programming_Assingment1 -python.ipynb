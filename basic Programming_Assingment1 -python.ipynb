{
 "cells": [
  {
   "cell_type": "markdown",
   "id": "4668d365",
   "metadata": {},
   "source": [
    "1. Write a Python program to print \"Hello Python\"? \n",
    "Ans:print(\"Hello Python\")\n",
    "\n",
    "\n",
    "2. Write a Python program to do arithmetical operations addition and division.?\n",
    "Ans:x=int(input())\n",
    "    y=int(input())\n",
    "     \n",
    "for division = x/y   \n",
    "for addition = x+y   \n",
    "\n",
    "\n",
    "3. Write a Python program to find the area of a triangle?\n",
    "Ans:a = 5\n",
    "b = 6\n",
    "c = 7\n",
    "\n",
    "s = (a + b + c) / 2\n",
    "\n",
    "area = (s*(s-a)*(s-b)*(s-c)) ** 0.5\n",
    "print(area)\n",
    "\n",
    "\n",
    "4. Write a Python program to swap two variables?\n",
    "Ans:x=input()\n",
    "y=input()\n",
    "\n",
    "# make a temp variable\n",
    "\n",
    "temp=y\n",
    "\n",
    "x=y\n",
    "\n",
    "temp=x\n",
    "\n",
    "\n",
    "5. Write a Python program to generate a random number?\n",
    "Ans:import random\n",
    "\n",
    "random.randint(0,9)\n",
    "\n"
   ]
  }
 ],
 "metadata": {
  "kernelspec": {
   "display_name": "Python 3 (ipykernel)",
   "language": "python",
   "name": "python3"
  },
  "language_info": {
   "codemirror_mode": {
    "name": "ipython",
    "version": 3
   },
   "file_extension": ".py",
   "mimetype": "text/x-python",
   "name": "python",
   "nbconvert_exporter": "python",
   "pygments_lexer": "ipython3",
   "version": "3.9.7"
  }
 },
 "nbformat": 4,
 "nbformat_minor": 5
}
