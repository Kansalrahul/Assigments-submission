{
 "cells": [
  {
   "cell_type": "markdown",
   "id": "4467f209",
   "metadata": {},
   "source": [
    "1. Write a Python program to Extract Unique values dictionary values?\n",
    "Ans:Dict1={'Name1':'Rahul','Name2':'Sonam','Name3':'Rahul','Name4':'Kritika','Name5':'Bunny','Name6':'Sonam','Name':'Parag','Name':'Parag'}\n",
    "set(Dict1.values())\n",
    "2. Write a Python program to find the sum of all items in a dictionary?\n",
    "ANs:SumD={'A':100,\"B\":200,\"C\":300}\n",
    "\n",
    "SUMD1=sum(SumD.values())\n",
    "print(\"Sum of values are\",SUMD1)\n",
    "\n",
    "\n",
    "3. Write a Python program to Merging two Dictionaries?\n",
    "Ans:Dict1={'Name1':'Rahul','Name2':'Sonam','Name3':'Rahul','Name4':'Kritika','Name5':'Bunny','Name6':'Sonam','Name':'Parag','Name':'Parag'}\n",
    "\n",
    "Dict2={'City1':'Hisar','City2':'Gurugram','City3':'Chandigarh'}\n",
    "\n",
    "Dict1.update(Dict2)\n",
    "\n",
    "4. Write a Python program to convert key-values list to flat dictionary?\n",
    "Ans:List1=[[\"rahul\",123],[\"Gogi\",456],[\"shivam\",369]]\n",
    "dict(List1)\n",
    "\n",
    "5. Write a Python program to insertion at the beginning in OrderedDict?\n",
    "Ans:from collections import OrderedDict\n",
    "\n",
    "\n",
    "Order_dict=OrderedDict([('Data Analyst',3),('Excel',1),('Sql',2)])\n",
    "Order_dict.update({'Python':4})\n",
    "Order_dict.move_to_end('Python',last=False)\n",
    "Order_dict\n",
    "\n",
    "6. Write a Python program to check order of character in string using OrderedDict()?\n",
    "Ans:def orderC(myinput,pattern):\n",
    "    mydict1=OrderedDict.fromkeys(myinput1)\n",
    "    pattern_length=0\n",
    "    for key,value in mydict1.items():\n",
    "        if key==pattern[pattern_length]:\n",
    "            pattern_length=pattern_length+1\n",
    "        if pattern_length==len(pattern):\n",
    "            return('string character is in order')\n",
    "       \n",
    "    return('string character is not in order')\n",
    "            \n",
    "myinput1= \"RahulSonam\"\n",
    "print('My input is:',myinput1)\n",
    "pattern1='RS'\n",
    "print('My pattern is :',pattern1)\n",
    "orderC(myinput1,pattern1)\n",
    "            \n",
    "\n",
    "7. Write a Python program to sort Python Dictionaries by Key or Value?\n",
    "Ans:def sort_by_key(d,reverse=False):\n",
    "    return dict(sorted(d.items(),reverse=reverse))\n",
    "\n",
    "Dict={ 'name1': 'Theodore', 'name2': 'Mathew', 'name4': 'Roxanne', 'name3': 'David' }\n",
    "\n",
    "sort_by_key(Dict,reverse=True)\n",
    "Dict={ 'name1': 'Theodore', 'name2': 'Mathew', 'name4': 'Roxanne', 'name3': 'David' }\n",
    "Dict1=sorted(Dict.values())\n",
    "\n"
   ]
  },
  {
   "cell_type": "markdown",
   "id": "3d0532e2",
   "metadata": {},
   "source": []
  }
 ],
 "metadata": {
  "kernelspec": {
   "display_name": "Python 3 (ipykernel)",
   "language": "python",
   "name": "python3"
  },
  "language_info": {
   "codemirror_mode": {
    "name": "ipython",
    "version": 3
   },
   "file_extension": ".py",
   "mimetype": "text/x-python",
   "name": "python",
   "nbconvert_exporter": "python",
   "pygments_lexer": "ipython3",
   "version": "3.9.7"
  }
 },
 "nbformat": 4,
 "nbformat_minor": 5
}
