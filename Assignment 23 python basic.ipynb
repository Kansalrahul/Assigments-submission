{
 "cells": [
  {
   "cell_type": "markdown",
   "id": "51130bae",
   "metadata": {},
   "source": [
    "1. What is the result of the code, and why?\n",
    ">>> def func(a, b=6, c=8):\n",
    "print(a, b, c)\n",
    ">>> func(1, 2)\n",
    "Ans:1 2 8\n",
    "beacause we give values to a and b ,c value already given. b also given but we give new value to b again .it is the rule of python.\n",
    "\n",
    "2. What is the result of this code, and why?\n",
    ">>> def func(a, b, c=5):\n",
    "print(a, b, c)\n",
    ">>> func(1, c=3, b=2)\n",
    "Ans:1,2,3\n",
    "because we give value a =1,b=2,c=3 when we call the function.\n",
    "\n",
    "\n",
    "3. How about this code: what is its result, and why?\n",
    ">>> def func(a, *pargs):\n",
    "print(a, pargs)\n",
    ">>> func(1, 2, 3)\n",
    "Ans: (1, 2, 3)\n",
    "because we additional length arguement * .it helps to pass any no.of values.\n",
    "\n",
    "\n",
    "4. What does this code print, and why?\n",
    ">>> def func(a, **kargs):\n",
    "print(a, kargs)\n",
    ">>> func(a=1, c=3, b=2)\n",
    "Ans:1 {'c': 3, 'b': 2}\n",
    "because we use double ** .it gives values to keys.we give values any no. of arguements.it works as like dictionary.\n",
    "\n",
    "5. What gets printed by this, and explain?\n",
    ">>> def func(a, b, c=8, d=5): print(a, b, c, d)\n",
    ">>> func(1, *(5, 6))\n",
    "Ans:1,5,6,5\n",
    "because in below line c value is 6 so a=1, b=5, c=6, d=5\n",
    "args function use here.\n",
    "\n",
    "6. what is the result of this, and explain?\n",
    ">>> def func(a, b, c): a = 2; b[0] = 'x'; c['a'] = 'y'\n",
    ">>> l=1; m=[1]; n={'a':0}\n",
    ">>> func(l, m, n)\n",
    ">>> l, m, n\n",
    "Ans:(1, ['x'], {'a': 'y'})\n",
    "due to value types vs reference types .it prefer for preference variables.\n"
   ]
  }
 ],
 "metadata": {
  "kernelspec": {
   "display_name": "Python 3 (ipykernel)",
   "language": "python",
   "name": "python3"
  },
  "language_info": {
   "codemirror_mode": {
    "name": "ipython",
    "version": 3
   },
   "file_extension": ".py",
   "mimetype": "text/x-python",
   "name": "python",
   "nbconvert_exporter": "python",
   "pygments_lexer": "ipython3",
   "version": "3.9.7"
  }
 },
 "nbformat": 4,
 "nbformat_minor": 5
}
