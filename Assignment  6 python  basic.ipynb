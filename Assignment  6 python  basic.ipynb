{
 "cells": [
  {
   "cell_type": "markdown",
   "id": "22771558",
   "metadata": {},
   "source": [
    "1. What are escape characters, and how do you use them?\n",
    "\n",
    "Ans:backslash characters are also known as escape characters (/).these characters are use with /n and /t ./t is use for tab & /n is use for new line etc.\n",
    "\n",
    "2. What do the escape characters n and t stand for?\n",
    "\n",
    "Ans:/t is use for tab & /n is use for new line .\n",
    "\n",
    "3. What is the way to include backslash characters in a string?\n",
    "\n",
    "Ans:Use the syntax \"\\\\\" within the string literal to represent a single backslash.\n",
    "\n",
    "\n",
    "4. The string \"Howl's Moving Castle\" is a correct value. Why isn't the single quote character in the word Howl's not escaped a problem?\n",
    "\n",
    "Ans:the single quote is fine because  we use double quote in this string.\n",
    "\n",
    "\n",
    "5. How do you write a string of newlines if you don't want to use the n character?\n",
    "\n",
    "Ans:we can use multiple strings for newlines without using n character.\n",
    "\n",
    "\n",
    "6. What are the values of the given expressions?\n",
    "'Hello, world!'[1]\n",
    "'Hello, world!'[0:5]\n",
    "'Hello, world!'[:5]\n",
    "'Hello, world!'[3:]\n",
    "\n",
    "Ans:'e'\n",
    "'hello'\n",
    "'hello'\n",
    "'lo,world!'\n",
    "\n",
    "\n",
    "7. What are the values of the following expressions?\n",
    "'Hello'.upper()\n",
    "'Hello'.upper().isupper()\n",
    "'Hello'.upper().lower()\n",
    "\n",
    "Ans:'HELLO'\n",
    "'True'\n",
    "'lower'\n",
    "\n",
    "8. What are the values of the following expressions?\n",
    "'Remember, remember, the fifth of July.'.split()\n",
    "\n",
    "Ans:['Remember,', 'remember,', 'the', 'fifth', 'of', 'July.']\n",
    "it splits the whole statement."
   ]
  }
 ],
 "metadata": {
  "kernelspec": {
   "display_name": "Python 3",
   "language": "python",
   "name": "python3"
  },
  "language_info": {
   "codemirror_mode": {
    "name": "ipython",
    "version": 3
   },
   "file_extension": ".py",
   "mimetype": "text/x-python",
   "name": "python",
   "nbconvert_exporter": "python",
   "pygments_lexer": "ipython3",
   "version": "3.8.8"
  }
 },
 "nbformat": 4,
 "nbformat_minor": 5
}
